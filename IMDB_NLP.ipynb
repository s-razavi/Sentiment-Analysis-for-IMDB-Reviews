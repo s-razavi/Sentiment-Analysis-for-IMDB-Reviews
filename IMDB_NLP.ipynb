{
 "cells": [
  {
   "cell_type": "markdown",
   "metadata": {},
   "source": [
    "# Import Libraries"
   ]
  },
  {
   "cell_type": "code",
   "execution_count": 68,
   "metadata": {
    "scrolled": true
   },
   "outputs": [],
   "source": [
    "#NLP tools\n",
    "import re, nltk\n",
    "from nltk.tokenize import word_tokenize\n",
    "from nltk.stem import PorterStemmer\n",
    "from nltk.stem import WordNetLemmatizer\n",
    "from nltk.corpus import stopwords\n",
    "import gensim \n",
    "from gensim.models import Word2Vec\n",
    "from nltk.util import ngrams\n",
    "from nltk.tokenize.treebank import TreebankWordDetokenizer\n",
    "\n",
    "# dataframe, plotting and wrangling\n",
    "import numpy as np\n",
    "import scipy as sp\n",
    "import pandas as pd\n",
    "import pandas_datareader as pdr\n",
    "import math\n",
    "import seaborn as sns; sns.set(color_codes=True)\n",
    "import itertools\n",
    "from collections import Counter\n",
    "import matplotlib.pyplot as plt\n",
    "\n",
    "#deep learning libraries\n",
    "import tensorflow\n",
    "import keras\n",
    "from keras.models import Sequential\n",
    "from keras.layers import Dense, Dropout\n",
    "from keras.layers import LSTM, GRU\n",
    "from keras.preprocessing import sequence\n",
    "from keras.optimizers import SGD\n",
    "from keras.callbacks import EarlyStopping\n",
    "from keras.optimizers import Adam\n",
    "from keras.datasets import imdb\n",
    "from keras.models import Sequential\n",
    "from keras.layers import Dense\n",
    "from keras.layers import Flatten\n",
    "from keras.layers.embeddings import Embedding\n",
    "from keras.preprocessing import sequence\n",
    "\n",
    "#sklearn libraries\n",
    "from sklearn.model_selection import train_test_split\n",
    "from sklearn.preprocessing import MinMaxScaler\n",
    "from sklearn.metrics import mean_squared_error\n",
    "from sklearn.metrics import r2_score\n",
    "from sklearn.metrics import mean_squared_error\n",
    "from sklearn.metrics import accuracy_score\n",
    "from sklearn.metrics import classification_report\n",
    "from sklearn import neighbors\n",
    "from sklearn.ensemble import RandomForestRegressor\n",
    "from sklearn.utils import shuffle\n",
    "from sklearn.model_selection import RandomizedSearchCV, GridSearchCV, train_test_split, KFold, cross_val_score\n",
    "from sklearn.svm import SVR, SVC\n",
    "from sklearn import metrics\n",
    "from sklearn.metrics import confusion_matrix\n",
    "from sklearn.metrics import classification_report\n",
    "from sklearn.ensemble import RandomForestRegressor\n",
    "from sklearn.ensemble import RandomForestClassifier\n",
    "from sklearn.naive_bayes import GaussianNB\n",
    "from sklearn.linear_model import LogisticRegression\n",
    "from sklearn.feature_extraction.text import CountVectorizer\n",
    "from sklearn.feature_extraction.text import TfidfVectorizer"
   ]
  },
  {
   "cell_type": "markdown",
   "metadata": {},
   "source": [
    "# Functions"
   ]
  },
  {
   "cell_type": "code",
   "execution_count": 21,
   "metadata": {},
   "outputs": [],
   "source": [
    "# function gets list of strings to be cleaned and min_freq: minimum frequency of each word in the text to keep.\n",
    "# all words with less frequency than min_freq are removed, min_freq = 1 keeps all words in the text. \n",
    "# function returns cleaned text as a list of strings, and dictionaries made from text before and after cleaning. \n",
    "def text_cleaner(text, min_freq):\n",
    "    stop_words = stopwords.words('english')\n",
    "    lemmatizer = WordNetLemmatizer()\n",
    "    words = set(nltk.corpus.words.words())\n",
    "    txt = []\n",
    "    tokens_after = []\n",
    "    tokens = []\n",
    "    for i in text:\n",
    "        tokenized = word_tokenize(i)\n",
    "        tokens.extend(tokenized)\n",
    "    len_before = len(tokens)\n",
    "    dic = Counter(tokens)\n",
    "    for i in range(len(text)):\n",
    "        temp = text[i]\n",
    "        temp = temp.strip().lower()\n",
    "        cleaned = re.sub('\\W+', ' ', temp)\n",
    "        tokenized = word_tokenize(cleaned)\n",
    "        filtered = [word for word in tokenized if word not in stop_words]\n",
    "        filtered_En = [word for word in filtered if word in words]\n",
    "        lemmatized = [lemmatizer.lemmatize(token) for token in filtered_En]\n",
    "        freq = [word for word in lemmatized if dic[word]>min_freq]\n",
    "        tokens_after.extend(freq)\n",
    "        string = TreebankWordDetokenizer().detokenize(freq)\n",
    "        txt.append(string)\n",
    "    len_after = len(tokens_after)\n",
    "    dic_after = Counter(tokens_after)\n",
    "    return(txt, dic, dic_after, len_after, len_before)\n",
    "\n",
    "def pretty_print_conf_matrix(y_true, y_pred, classes,normalize=False,title='Confusion matrix',cmap=plt.cm.Blues):\n",
    "    cm = confusion_matrix(y_true, y_pred)\n",
    "    plt.imshow(cm, interpolation='nearest', cmap=cmap)\n",
    "    plt.title(title, fontsize=14)\n",
    "    tick_marks = np.arange(len(classes))\n",
    "    plt.xticks(tick_marks, classes, rotation=45)\n",
    "    plt.yticks(tick_marks, classes)\n",
    "    plt.ylabel('True label', fontsize=12)\n",
    "    plt.xlabel('Predicted label', fontsize=12)\n",
    "    if normalize:\n",
    "        cm = np.round(cm.astype('float') / cm.sum(),2) \n",
    "    thresh = cm.max() / 2.\n",
    "    for i, j in itertools.product(range(cm.shape[0]), range(cm.shape[1])):\n",
    "        plt.text(j, i, cm[i, j],horizontalalignment=\"center\",color=\"white\" if cm[i, j] > thresh else \"black\",\n",
    "                 fontsize=12)"
   ]
  },
  {
   "cell_type": "markdown",
   "metadata": {},
   "source": [
    "# Import Data"
   ]
  },
  {
   "cell_type": "code",
   "execution_count": 3,
   "metadata": {},
   "outputs": [
    {
     "data": {
      "text/html": [
       "<div>\n",
       "<style scoped>\n",
       "    .dataframe tbody tr th:only-of-type {\n",
       "        vertical-align: middle;\n",
       "    }\n",
       "\n",
       "    .dataframe tbody tr th {\n",
       "        vertical-align: top;\n",
       "    }\n",
       "\n",
       "    .dataframe thead th {\n",
       "        text-align: right;\n",
       "    }\n",
       "</style>\n",
       "<table border=\"1\" class=\"dataframe\">\n",
       "  <thead>\n",
       "    <tr style=\"text-align: right;\">\n",
       "      <th></th>\n",
       "      <th>Unnamed: 0</th>\n",
       "      <th>sentence</th>\n",
       "      <th>sentiment</th>\n",
       "      <th>polarity</th>\n",
       "    </tr>\n",
       "  </thead>\n",
       "  <tbody>\n",
       "    <tr>\n",
       "      <th>0</th>\n",
       "      <td>0</td>\n",
       "      <td>Barbra Streisand's first television special wa...</td>\n",
       "      <td>10</td>\n",
       "      <td>1</td>\n",
       "    </tr>\n",
       "    <tr>\n",
       "      <th>1</th>\n",
       "      <td>1</td>\n",
       "      <td>When I heard the plot for this movie I simply ...</td>\n",
       "      <td>2</td>\n",
       "      <td>0</td>\n",
       "    </tr>\n",
       "    <tr>\n",
       "      <th>2</th>\n",
       "      <td>2</td>\n",
       "      <td>I caught the last half of this movie on cable ...</td>\n",
       "      <td>7</td>\n",
       "      <td>1</td>\n",
       "    </tr>\n",
       "    <tr>\n",
       "      <th>3</th>\n",
       "      <td>3</td>\n",
       "      <td>I am working my way through the Chilling Class...</td>\n",
       "      <td>2</td>\n",
       "      <td>0</td>\n",
       "    </tr>\n",
       "    <tr>\n",
       "      <th>4</th>\n",
       "      <td>4</td>\n",
       "      <td>This tender beautifully crafted production del...</td>\n",
       "      <td>10</td>\n",
       "      <td>1</td>\n",
       "    </tr>\n",
       "  </tbody>\n",
       "</table>\n",
       "</div>"
      ],
      "text/plain": [
       "   Unnamed: 0                                           sentence  sentiment  \\\n",
       "0           0  Barbra Streisand's first television special wa...         10   \n",
       "1           1  When I heard the plot for this movie I simply ...          2   \n",
       "2           2  I caught the last half of this movie on cable ...          7   \n",
       "3           3  I am working my way through the Chilling Class...          2   \n",
       "4           4  This tender beautifully crafted production del...         10   \n",
       "\n",
       "   polarity  \n",
       "0         1  \n",
       "1         0  \n",
       "2         1  \n",
       "3         0  \n",
       "4         1  "
      ]
     },
     "execution_count": 3,
     "metadata": {},
     "output_type": "execute_result"
    }
   ],
   "source": [
    "train = pd.read_csv(r'C:\\Users\\srazavit\\Desktop\\ML\\NLP\\train_imdb.csv')\n",
    "test = pd.read_csv(r'C:\\Users\\srazavit\\Desktop\\ML\\NLP\\test_imdb.csv')\n",
    "train.head()"
   ]
  },
  {
   "cell_type": "markdown",
   "metadata": {},
   "source": [
    "## Cleaning"
   ]
  },
  {
   "cell_type": "code",
   "execution_count": 10,
   "metadata": {
    "code_folding": []
   },
   "outputs": [],
   "source": [
    "text = []\n",
    "for i in range(len(train)):\n",
    "        text.append(train.sentence[i])\n",
    "        \n",
    "txt, dic_before, dic_after, len_before, len_after = text_cleaner(text, 10)"
   ]
  },
  {
   "cell_type": "code",
   "execution_count": 14,
   "metadata": {},
   "outputs": [
    {
     "name": "stdout",
     "output_type": "stream",
     "text": [
      "When I heard the plot for this movie I simply had to see it, I mean whole cities being wiped out by killer tomatoes! Sadly the title is about as funny as it gets.<br /><br />Led by Detective Dick Mason, a special team of military and scientists (including Greg Colburn who never takes his SCUBA outfit off and Lt. Finletter who is never pictured without his parachute trailing behind) 'Attack Of The Killer Tomatoes' is a parody of B-Movies, in particular Japanese horror of the 1950's. The film begins with a standard sized tomato being discovered by a women washing up in her kitchen before we find ourselves in a middle of a crime scene as the tomato has supposedly murdered this lady, and let me tell you it doesn't get any saner as the film progresses! To be fair there are a couple of funny moments, for instance anytime the Japanese scientist Dr Nokitofa speaks his voice is dubbed over in an American accent, or when disguise expert Sam Smith infiltrates the tomatoes 'hey, can somebody please pass the ketchup?'. Equally this film was probably a lot funnier in 1978 with the whole so bad its good concept. Unfortunately for 'Attack Of The Killer Tomatoes' spoof films such as the 'Airplane' and 'Naked Gun' series have been released and done this kind of comedy a lot better since.<br /><br />The acting is atrocious; there is zero continuity in the editing and it just feels genuinely slow and lacking energy. For a parody film to work you need a lot of things happening at once, one gag after the over. The singing in the film seems pointless and the adverts for the furniture store that flash across the screen are damn right bizarre, even for this film. Ultimately, however, you can see why this film is a cult one; I can't see many people being indifferent to it. Unfortunately terrible would be the way I would sum this up. \n",
      " \n",
      " plot movie simply see mean whole killer sadly title funny led detective dick special team military never outfit never pictured without behind attack killer parody b particular horror film standard sized tomato discovered washing kitchen find middle crime scene tomato supposedly lady let tell get film fair couple funny instance scientist voice accent disguise expert hey somebody please pas ketchup equally film probably lot whole bad good concept unfortunately attack killer spoof airplane naked gun series done kind comedy lot better since acting atrocious zero continuity genuinely slow energy parody film work need lot happening one gag singing film pointless furniture store flash across screen damn right bizarre even film ultimately however see film cult one see many people indifferent unfortunately terrible would way would sum\n"
     ]
    }
   ],
   "source": [
    "print(text[1],'\\n', '\\n', txt[1])"
   ]
  },
  {
   "cell_type": "markdown",
   "metadata": {},
   "source": [
    "## words frequency before cleanings"
   ]
  },
  {
   "cell_type": "code",
   "execution_count": 66,
   "metadata": {},
   "outputs": [
    {
     "data": {
      "image/png": "[encoded data removed]",
      "text/plain": [
       "<Figure size 640x480 with 1 Axes>"
      ]
     },
     "metadata": {},
     "output_type": "display_data"
    }
   ],
   "source": [
    "plt.yscale('log')\n",
    "plt.xscale('log')\n",
    "plt.xlabel('word')\n",
    "plt.ylabel('Count of the word')\n",
    "plt.rcParams.update({'font.size': 16})\n",
    "plt.axis([1, 100000, 1, 1000000])\n",
    "plt.plot(list(reversed(range(len(dic_after.values())))), sorted(dic_after.values()), label = 'After Cleaning')\n",
    "plt.plot(list(reversed(range(len(dic_before.values())))), sorted(dic_before.values()), label = 'Before Cleaning')\n",
    "plt.legend(loc=\"upper right\");"
   ]
  },
  {
   "cell_type": "markdown",
   "metadata": {},
   "source": [
    "## Length of Reviews before/after Cleaning"
   ]
  },
  {
   "cell_type": "code",
   "execution_count": 65,
   "metadata": {},
   "outputs": [
    {
     "name": "stdout",
     "output_type": "stream",
     "text": [
      "Mean 87.07 words after cleaning with stdev: 63.8\n",
      "Mean 282.33 words before cleaning with stdev: 210.4\n"
     ]
    },
    {
     "data": {
      "image/png": "[encoded data removed]",
      "text/plain": [
       "<Figure size 640x480 with 1 Axes>"
      ]
     },
     "metadata": {},
     "output_type": "display_data"
    }
   ],
   "source": [
    "docs = text\n",
    "ln_before = [len(word_tokenize(x)) for x in text] # len(x) returns length of characters. \n",
    "ln_after = [len(word_tokenize(x)) for x in txt]\n",
    "plt.xlabel('Number of words in review')\n",
    "plt.ylabel('Frequency')\n",
    "plt.rcParams.update({'font.size': 16})\n",
    "plt.hist(ln_after,bins = 100, edgecolor = 'black',alpha = 0.5, histtype='bar', label = 'After Cleaning')\n",
    "plt.hist(ln_before,bins = 100, edgecolor = 'black',alpha = 0.5, histtype='bar', label = 'Before Cleaning')\n",
    "plt.axis([0, 1500, 0, 3500])\n",
    "print(\"Mean %0.2f words after cleaning with stdev: %.1f\" % (np.mean(ln_after), np.std(ln_after)))\n",
    "print(\"Mean %0.2f words before cleaning with stdev: %.1f\" % (np.mean(ln_before), np.std(ln_before)))\n",
    "plt.legend(loc=\"upper right\");"
   ]
  },
  {
   "cell_type": "markdown",
   "metadata": {},
   "source": [
    "## Saving"
   ]
  },
  {
   "cell_type": "code",
   "execution_count": 11,
   "metadata": {},
   "outputs": [],
   "source": [
    "with open('imdb_cleaned.txt', 'w') as filehandle:\n",
    "    for listitem in txt:\n",
    "        filehandle.write('%s\\n' % listitem)"
   ]
  },
  {
   "cell_type": "markdown",
   "metadata": {},
   "source": [
    "## uploading"
   ]
  },
  {
   "cell_type": "code",
   "execution_count": 3,
   "metadata": {},
   "outputs": [],
   "source": [
    "txt = []\n",
    "with open('imdb_cleaned.txt', 'r') as filehandle:\n",
    "    for line in filehandle:\n",
    "        # remove linebreak which is the last character of the string\n",
    "        temp = line[:-1]\n",
    "        txt.append(temp)"
   ]
  },
  {
   "cell_type": "markdown",
   "metadata": {},
   "source": [
    "# Word2Vec"
   ]
  },
  {
   "cell_type": "code",
   "execution_count": 46,
   "metadata": {},
   "outputs": [],
   "source": [
    "tokens = []\n",
    "for i in txt:\n",
    "    tokenized = word_tokenize(i)\n",
    "    tokens.append(tokenized)\n",
    "model = gensim.models.Word2Vec(tokens,min_count = 10, size = 100, window = 10, workers=10, iter= 20, sample=0.001)\n",
    "#save the model\n",
    "model.wv.save_word2vec_format('imdb_embedding_w2v.txt', binary = False) #binary should be false so readable as text"
   ]
  },
  {
   "cell_type": "markdown",
   "metadata": {},
   "source": [
    "## few examples"
   ]
  },
  {
   "cell_type": "code",
   "execution_count": 51,
   "metadata": {},
   "outputs": [
    {
     "data": {
      "text/plain": [
       "[('wonderful', 0.6097501516342163),\n",
       " ('perfection', 0.6064478754997253),\n",
       " ('superb', 0.5827547311782837),\n",
       " ('excellent', 0.5807034969329834),\n",
       " ('great', 0.5632277727127075),\n",
       " ('flawless', 0.5515923500061035),\n",
       " ('fantastic', 0.5467516183853149),\n",
       " ('fabulous', 0.5351839661598206),\n",
       " ('delightful', 0.5211518406867981),\n",
       " ('terrific', 0.5154913663864136)]"
      ]
     },
     "execution_count": 51,
     "metadata": {},
     "output_type": "execute_result"
    }
   ],
   "source": [
    "model.wv.most_similar(positive = 'perfect')"
   ]
  },
  {
   "cell_type": "code",
   "execution_count": 53,
   "metadata": {},
   "outputs": [
    {
     "data": {
      "text/plain": [
       "[('ex', 1.2654095888137817),\n",
       " ('hired', 1.2021087408065796),\n",
       " ('dashing', 1.1556947231292725),\n",
       " ('rich', 1.1553736925125122),\n",
       " ('partner', 1.1523219347000122),\n",
       " ('sailor', 1.130357265472412),\n",
       " ('gentleman', 1.0966370105743408),\n",
       " ('marry', 1.0955901145935059),\n",
       " ('millionaire', 1.0894733667373657),\n",
       " ('jealous', 1.087028980255127)]"
      ]
     },
     "execution_count": 53,
     "metadata": {},
     "output_type": "execute_result"
    }
   ],
   "source": [
    "model.wv.most_similar_cosmul(positive = ['man', 'determined'], negative = ['fear'])"
   ]
  },
  {
   "cell_type": "markdown",
   "metadata": {},
   "source": [
    "### Manual one_hot"
   ]
  },
  {
   "cell_type": "code",
   "execution_count": 16,
   "metadata": {},
   "outputs": [
    {
     "name": "stdout",
     "output_type": "stream",
     "text": [
      "Number of all words:  2183088\n",
      "Number of unique words:  9609\n",
      "(25000, 200)\n"
     ]
    }
   ],
   "source": [
    "docs = txt\n",
    "maxlen=200\n",
    "one_text = \" \".join(txt)\n",
    "tkn = word_tokenize(one_text)\n",
    "print(\"Number of all words: \", len(tkn))\n",
    "uniques = (np.unique(np.hstack(tkn)))\n",
    "print(\"Number of unique words: \", len(uniques))\n",
    "\n",
    "dick_oneH = {}\n",
    "keys = range(len(uniques))\n",
    "values = uniques\n",
    "for i in keys:\n",
    "        dick_oneH[i] = values[i]\n",
    "inv_dick = {v: k for k, v in dick_oneH.items()}\n",
    "\n",
    "all_str = []\n",
    "for i in txt:\n",
    "    tkn = word_tokenize(i)\n",
    "    strn = []\n",
    "    for j in tkn:\n",
    "        strn.append(inv_dick[j])\n",
    "    all_str.append(strn)\n",
    "padded_docs = sequence.pad_sequences(all_str, maxlen=200, padding='post')\n",
    "print(np.shape(padded_docs))"
   ]
  },
  {
   "cell_type": "markdown",
   "metadata": {},
   "source": [
    "## Vectorizer"
   ]
  },
  {
   "cell_type": "code",
   "execution_count": 30,
   "metadata": {},
   "outputs": [
    {
     "name": "stdout",
     "output_type": "stream",
     "text": [
      "(25000, 9599)\n",
      "<class 'scipy.sparse.csr.csr_matrix'>\n",
      "[[0 0 0 ... 0 0 0]\n",
      " [0 0 0 ... 0 0 0]\n",
      " [0 0 0 ... 0 0 0]\n",
      " ...\n",
      " [0 0 0 ... 0 0 0]\n",
      " [0 0 0 ... 0 0 0]\n",
      " [0 0 0 ... 0 0 0]]\n"
     ]
    }
   ],
   "source": [
    "vectorizer = CountVectorizer()\n",
    "vectorizer.fit(txt)\n",
    "#print(vectorizer.vocabulary_)\n",
    "vector = vectorizer.transform(txt)\n",
    "print(vector.shape)\n",
    "print(type(vector))\n",
    "print(vector.toarray())\n",
    "y = []\n",
    "for i in range(len(train)):\n",
    "    y.append(train.polarity[i])\n",
    "y = np.asarray(y)\n",
    "x_train, y_train, x_test, y_test = vector[0:20000],y[0:20000],vector[20000:25000], y[20000:25000] "
   ]
  },
  {
   "cell_type": "markdown",
   "metadata": {},
   "source": [
    "## TFIDF Vectorizer"
   ]
  },
  {
   "cell_type": "code",
   "execution_count": 32,
   "metadata": {},
   "outputs": [
    {
     "name": "stdout",
     "output_type": "stream",
     "text": [
      "(25000, 9599)\n",
      "<class 'scipy.sparse.csr.csr_matrix'>\n",
      "[[0. 0. 0. ... 0. 0. 0.]\n",
      " [0. 0. 0. ... 0. 0. 0.]\n",
      " [0. 0. 0. ... 0. 0. 0.]\n",
      " ...\n",
      " [0. 0. 0. ... 0. 0. 0.]\n",
      " [0. 0. 0. ... 0. 0. 0.]\n",
      " [0. 0. 0. ... 0. 0. 0.]]\n"
     ]
    }
   ],
   "source": [
    "vectorizer = TfidfVectorizer()\n",
    "vectorizer.fit(txt)\n",
    "vector = vectorizer.transform(txt)\n",
    "print(vector.shape)\n",
    "print(type(vector))\n",
    "print(vector.toarray())\n",
    "y = []\n",
    "for i in range(len(train)):\n",
    "    y.append(train.polarity[i])\n",
    "y = np.asarray(y)\n",
    "x_train, y_train, x_test, y_test = vector[0:20000],y[0:20000],vector[20000:25000], y[20000:25000]"
   ]
  },
  {
   "cell_type": "markdown",
   "metadata": {},
   "source": [
    "# Logistic Regression TFIDF"
   ]
  },
  {
   "cell_type": "code",
   "execution_count": 31,
   "metadata": {},
   "outputs": [
    {
     "name": "stderr",
     "output_type": "stream",
     "text": [
      "C:\\ProgramData\\Anaconda3\\lib\\site-packages\\sklearn\\linear_model\\logistic.py:433: FutureWarning: Default solver will be changed to 'lbfgs' in 0.22. Specify a solver to silence this warning.\n",
      "  FutureWarning)\n"
     ]
    },
    {
     "name": "stdout",
     "output_type": "stream",
     "text": [
      "              precision    recall  f1-score   support\n",
      "\n",
      "    positive       0.76      0.83      0.80      2531\n",
      "    negative       0.81      0.74      0.77      2469\n",
      "\n",
      "   micro avg       0.78      0.78      0.78      5000\n",
      "   macro avg       0.79      0.78      0.78      5000\n",
      "weighted avg       0.79      0.78      0.78      5000\n",
      "\n"
     ]
    }
   ],
   "source": [
    "classifier = LogisticRegression()\n",
    "X_train = x_train.toarray()\n",
    "X_test = x_test.toarray()\n",
    "classifier.fit(X_train, y_train)\n",
    "\n",
    "rpt = classification_report(y_test, y_pred, target_names = ['positive', 'negative'] )\n",
    "print(rpt)\n",
    "# 77-80% fscore with simple vectorizer"
   ]
  },
  {
   "cell_type": "markdown",
   "metadata": {},
   "source": [
    "# NB on TFIDF vectorizer"
   ]
  },
  {
   "cell_type": "code",
   "execution_count": 19,
   "metadata": {},
   "outputs": [
    {
     "name": "stdout",
     "output_type": "stream",
     "text": [
      "              precision    recall  f1-score   support\n",
      "\n",
      "    positive       0.75      0.82      0.78      2531\n",
      "    negative       0.80      0.72      0.76      2469\n",
      "\n",
      "   micro avg       0.77      0.77      0.77      5000\n",
      "   macro avg       0.77      0.77      0.77      5000\n",
      "weighted avg       0.77      0.77      0.77      5000\n",
      "\n"
     ]
    }
   ],
   "source": [
    "classifier = GaussianNB(); \n",
    "X_train = x_train.toarray()\n",
    "X_test = x_test.toarray()\n",
    "classifier.fit(X_train, y_train)\n",
    "\n",
    "rpt = classification_report(y_test, y_pred, target_names = ['positive', 'negative'] )\n",
    "print(rpt)\n",
    "#fscore of 71% and 74% for simple vectorizer"
   ]
  },
  {
   "cell_type": "markdown",
   "metadata": {},
   "source": [
    "# SVC on Vectorizer"
   ]
  },
  {
   "cell_type": "code",
   "execution_count": 33,
   "metadata": {},
   "outputs": [
    {
     "name": "stderr",
     "output_type": "stream",
     "text": [
      "C:\\ProgramData\\Anaconda3\\lib\\site-packages\\sklearn\\svm\\base.py:196: FutureWarning: The default value of gamma will change from 'auto' to 'scale' in version 0.22 to account better for unscaled features. Set gamma explicitly to 'auto' or 'scale' to avoid this warning.\n",
      "  \"avoid this warning.\", FutureWarning)\n"
     ]
    },
    {
     "name": "stdout",
     "output_type": "stream",
     "text": [
      "              precision    recall  f1-score   support\n",
      "\n",
      "    positive       0.00      0.00      0.00      2531\n",
      "    negative       0.49      1.00      0.66      2469\n",
      "\n",
      "   micro avg       0.49      0.49      0.49      5000\n",
      "   macro avg       0.25      0.50      0.33      5000\n",
      "weighted avg       0.24      0.49      0.33      5000\n",
      "\n"
     ]
    },
    {
     "name": "stderr",
     "output_type": "stream",
     "text": [
      "C:\\ProgramData\\Anaconda3\\lib\\site-packages\\sklearn\\metrics\\classification.py:1143: UndefinedMetricWarning: Precision and F-score are ill-defined and being set to 0.0 in labels with no predicted samples.\n",
      "  'precision', 'predicted', average, warn_for)\n",
      "C:\\ProgramData\\Anaconda3\\lib\\site-packages\\sklearn\\metrics\\classification.py:1143: UndefinedMetricWarning: Precision and F-score are ill-defined and being set to 0.0 in labels with no predicted samples.\n",
      "  'precision', 'predicted', average, warn_for)\n",
      "C:\\ProgramData\\Anaconda3\\lib\\site-packages\\sklearn\\metrics\\classification.py:1143: UndefinedMetricWarning: Precision and F-score are ill-defined and being set to 0.0 in labels with no predicted samples.\n",
      "  'precision', 'predicted', average, warn_for)\n"
     ]
    }
   ],
   "source": [
    "X_train = x_train.toarray()\n",
    "X_test = x_test.toarray()\n",
    "model = SVC()\n",
    "model.fit(X_train, y_train)  \n",
    "y_pred = model.predict(X_test)\n",
    "rpt = classification_report(y_test, y_pred, target_names = ['positive', 'negative'] )\n",
    "print(rpt)\n",
    "#80-82% fscore simple vec"
   ]
  },
  {
   "cell_type": "markdown",
   "metadata": {},
   "source": [
    "# RF on Vectorizer"
   ]
  },
  {
   "cell_type": "code",
   "execution_count": 22,
   "metadata": {},
   "outputs": [
    {
     "name": "stderr",
     "output_type": "stream",
     "text": [
      "C:\\ProgramData\\Anaconda3\\lib\\site-packages\\sklearn\\ensemble\\forest.py:246: FutureWarning: The default value of n_estimators will change from 10 in version 0.20 to 100 in 0.22.\n",
      "  \"10 in version 0.20 to 100 in 0.22.\", FutureWarning)\n"
     ]
    },
    {
     "name": "stdout",
     "output_type": "stream",
     "text": [
      "              precision    recall  f1-score   support\n",
      "\n",
      "    positive       0.76      0.83      0.80      2531\n",
      "    negative       0.81      0.74      0.77      2469\n",
      "\n",
      "   micro avg       0.78      0.78      0.78      5000\n",
      "   macro avg       0.79      0.78      0.78      5000\n",
      "weighted avg       0.79      0.78      0.78      5000\n",
      "\n"
     ]
    }
   ],
   "source": [
    "model = RandomForestClassifier()\n",
    "X_train = x_train.toarray()\n",
    "X_test = x_test.toarray()\n",
    "model.fit(X_train, y_train)  \n",
    "y_pred = model.predict(X_test)\n",
    "rpt = classification_report(y_test, y_pred, target_names = ['positive', 'negative'] )\n",
    "print(rpt)\n",
    "# fscore of 78/76% on simple vectorizer"
   ]
  },
  {
   "cell_type": "markdown",
   "metadata": {},
   "source": [
    "# ANN on BoW"
   ]
  },
  {
   "cell_type": "code",
   "execution_count": 23,
   "metadata": {},
   "outputs": [
    {
     "name": "stderr",
     "output_type": "stream",
     "text": [
      "WARNING: Logging before flag parsing goes to stderr.\n",
      "W1211 12:15:04.284724 13968 deprecation_wrapper.py:119] From C:\\ProgramData\\Anaconda3\\lib\\site-packages\\keras\\backend\\tensorflow_backend.py:74: The name tf.get_default_graph is deprecated. Please use tf.compat.v1.get_default_graph instead.\n",
      "\n",
      "W1211 12:15:04.300350 13968 deprecation_wrapper.py:119] From C:\\ProgramData\\Anaconda3\\lib\\site-packages\\keras\\backend\\tensorflow_backend.py:517: The name tf.placeholder is deprecated. Please use tf.compat.v1.placeholder instead.\n",
      "\n",
      "W1211 12:15:04.300350 13968 deprecation_wrapper.py:119] From C:\\ProgramData\\Anaconda3\\lib\\site-packages\\keras\\backend\\tensorflow_backend.py:4138: The name tf.random_uniform is deprecated. Please use tf.random.uniform instead.\n",
      "\n",
      "W1211 12:15:04.315980 13968 deprecation_wrapper.py:119] From C:\\ProgramData\\Anaconda3\\lib\\site-packages\\keras\\backend\\tensorflow_backend.py:133: The name tf.placeholder_with_default is deprecated. Please use tf.compat.v1.placeholder_with_default instead.\n",
      "\n",
      "W1211 12:15:04.331636 13968 deprecation.py:506] From C:\\ProgramData\\Anaconda3\\lib\\site-packages\\keras\\backend\\tensorflow_backend.py:3445: calling dropout (from tensorflow.python.ops.nn_ops) with keep_prob is deprecated and will be removed in a future version.\n",
      "Instructions for updating:\n",
      "Please use `rate` instead of `keep_prob`. Rate should be set to `rate = 1 - keep_prob`.\n",
      "W1211 12:15:04.388510 13968 deprecation_wrapper.py:119] From C:\\ProgramData\\Anaconda3\\lib\\site-packages\\keras\\optimizers.py:790: The name tf.train.Optimizer is deprecated. Please use tf.compat.v1.train.Optimizer instead.\n",
      "\n",
      "W1211 12:15:04.392512 13968 deprecation_wrapper.py:119] From C:\\ProgramData\\Anaconda3\\lib\\site-packages\\keras\\backend\\tensorflow_backend.py:3376: The name tf.log is deprecated. Please use tf.math.log instead.\n",
      "\n",
      "W1211 12:15:04.400523 13968 deprecation.py:323] From C:\\ProgramData\\Anaconda3\\lib\\site-packages\\tensorflow\\python\\ops\\nn_impl.py:180: add_dispatch_support.<locals>.wrapper (from tensorflow.python.ops.array_ops) is deprecated and will be removed in a future version.\n",
      "Instructions for updating:\n",
      "Use tf.where in 2.0, which has the same broadcast rule as np.where\n"
     ]
    },
    {
     "name": "stdout",
     "output_type": "stream",
     "text": [
      "_________________________________________________________________\n",
      "Layer (type)                 Output Shape              Param #   \n",
      "=================================================================\n",
      "dense_1 (Dense)              (None, 1000)              9600000   \n",
      "_________________________________________________________________\n",
      "dense_2 (Dense)              (None, 1000)              1001000   \n",
      "_________________________________________________________________\n",
      "dropout_1 (Dropout)          (None, 1000)              0         \n",
      "_________________________________________________________________\n",
      "dense_3 (Dense)              (None, 1000)              1001000   \n",
      "_________________________________________________________________\n",
      "dropout_2 (Dropout)          (None, 1000)              0         \n",
      "_________________________________________________________________\n",
      "dense_4 (Dense)              (None, 1)                 1001      \n",
      "=================================================================\n",
      "Total params: 11,603,001\n",
      "Trainable params: 11,603,001\n",
      "Non-trainable params: 0\n",
      "_________________________________________________________________\n",
      "Epoch 1/16\n",
      "20000/20000 [==============================] - 18s 911us/step - loss: 0.6926 - acc: 0.5197\n",
      "Epoch 2/16\n",
      "20000/20000 [==============================] - 18s 881us/step - loss: 0.6899 - acc: 0.5837\n",
      "Epoch 3/16\n",
      "20000/20000 [==============================] - 18s 880us/step - loss: 0.6839 - acc: 0.6423\n",
      "Epoch 4/16\n",
      "20000/20000 [==============================] - 18s 883us/step - loss: 0.6664 - acc: 0.7128\n",
      "Epoch 5/16\n",
      "20000/20000 [==============================] - 18s 881us/step - loss: 0.6134 - acc: 0.7845\n",
      "Epoch 6/16\n",
      "20000/20000 [==============================] - 18s 884us/step - loss: 0.4900 - acc: 0.8241\n",
      "Epoch 7/16\n",
      "20000/20000 [==============================] - 18s 893us/step - loss: 0.3738 - acc: 0.8487\n",
      "Epoch 8/16\n",
      "20000/20000 [==============================] - 18s 887us/step - loss: 0.3174 - acc: 0.8709\n",
      "Epoch 9/16\n",
      "20000/20000 [==============================] - 18s 887us/step - loss: 0.2877 - acc: 0.8831\n",
      "Epoch 10/16\n",
      "20000/20000 [==============================] - 18s 888us/step - loss: 0.2635 - acc: 0.8931\n",
      "Epoch 11/16\n",
      "20000/20000 [==============================] - 18s 890us/step - loss: 0.2455 - acc: 0.9053\n",
      "Epoch 12/16\n",
      "20000/20000 [==============================] - 18s 888us/step - loss: 0.2354 - acc: 0.9084\n",
      "Epoch 13/16\n",
      "20000/20000 [==============================] - 18s 889us/step - loss: 0.2207 - acc: 0.9146\n",
      "Epoch 14/16\n",
      "20000/20000 [==============================] - 18s 895us/step - loss: 0.2107 - acc: 0.9200\n",
      "Epoch 15/16\n",
      "20000/20000 [==============================] - 18s 888us/step - loss: 0.2007 - acc: 0.9256\n",
      "Epoch 16/16\n",
      "20000/20000 [==============================] - 18s 890us/step - loss: 0.1957 - acc: 0.9265\n",
      "Accuracy: 87.42%\n"
     ]
    }
   ],
   "source": [
    "np.random.seed(141)\n",
    "units = 1000\n",
    "epochs = 16\n",
    "batch_size = 128\n",
    "lr = 0.01\n",
    "x_train, y_train, x_test, y_test = vector[0:20000],y[0:20000],vector[20000:25000], y[20000:25000] \n",
    "\n",
    "model = Sequential()\n",
    "model.add(Dense(units = units,input_dim = 9599, activation='relu'))\n",
    "model.add(Dense(units = units, activation='relu'))\n",
    "model.add(Dropout(0.5))\n",
    "model.add(Dense(units = units, activation='relu'))\n",
    "model.add(Dropout(0.5))\n",
    "model.add(Dense(units = 1,  activation='sigmoid'))\n",
    "#model.compile(loss = 'mse',  optimizer = \"adam\")\n",
    "opt = SGD(lr=lr, momentum=0.9, decay=0.001)\n",
    "model.compile(optimizer = opt, loss='binary_crossentropy' ,  metrics=['accuracy'])\n",
    "model.summary()\n",
    "model.fit(x_train, y_train, epochs = epochs, batch_size = batch_size, verbose = 1, shuffle=True)\n",
    "\n",
    "scores = model.evaluate(x_test, y_test, verbose=0)\n",
    "print(\"Accuracy: %.2f%%\" % (scores[1]*100))\n",
    "# accuracy of 86.9% on simple vectorizer"
   ]
  },
  {
   "cell_type": "markdown",
   "metadata": {},
   "source": [
    "# ANN on Keras Embedding"
   ]
  },
  {
   "cell_type": "code",
   "execution_count": 55,
   "metadata": {},
   "outputs": [
    {
     "name": "stdout",
     "output_type": "stream",
     "text": [
      "_________________________________________________________________\n",
      "Layer (type)                 Output Shape              Param #   \n",
      "=================================================================\n",
      "embedding_5 (Embedding)      (None, 200, 128)          1229952   \n",
      "_________________________________________________________________\n",
      "flatten_5 (Flatten)          (None, 25600)             0         \n",
      "_________________________________________________________________\n",
      "dense_16 (Dense)             (None, 500)               12800500  \n",
      "_________________________________________________________________\n",
      "dropout_7 (Dropout)          (None, 500)               0         \n",
      "_________________________________________________________________\n",
      "dense_17 (Dense)             (None, 250)               125250    \n",
      "_________________________________________________________________\n",
      "dropout_8 (Dropout)          (None, 250)               0         \n",
      "_________________________________________________________________\n",
      "dense_18 (Dense)             (None, 10)                2510      \n",
      "_________________________________________________________________\n",
      "dense_19 (Dense)             (None, 1)                 11        \n",
      "=================================================================\n",
      "Total params: 14,158,223\n",
      "Trainable params: 14,158,223\n",
      "Non-trainable params: 0\n",
      "_________________________________________________________________\n",
      "Train on 20000 samples, validate on 5000 samples\n",
      "Epoch 1/8\n",
      " - 44s - loss: 0.6272 - acc: 0.6103 - val_loss: 0.3859 - val_acc: 0.8338\n",
      "Epoch 2/8\n",
      " - 42s - loss: 0.2848 - acc: 0.8862 - val_loss: 0.3068 - val_acc: 0.8684\n",
      "Epoch 3/8\n",
      " - 42s - loss: 0.0642 - acc: 0.9778 - val_loss: 0.5138 - val_acc: 0.8538\n",
      "Epoch 4/8\n",
      " - 42s - loss: 0.0129 - acc: 0.9959 - val_loss: 0.7706 - val_acc: 0.8528\n",
      "Epoch 5/8\n",
      " - 43s - loss: 0.0046 - acc: 0.9987 - val_loss: 0.8727 - val_acc: 0.8514\n",
      "Epoch 6/8\n",
      " - 42s - loss: 0.0032 - acc: 0.9988 - val_loss: 1.0204 - val_acc: 0.8512\n",
      "Epoch 7/8\n",
      " - 42s - loss: 0.0167 - acc: 0.9949 - val_loss: 0.8641 - val_acc: 0.8454\n",
      "Epoch 8/8\n",
      " - 43s - loss: 0.0104 - acc: 0.9963 - val_loss: 0.8743 - val_acc: 0.8538\n",
      "Accuracy: 85.380\n"
     ]
    }
   ],
   "source": [
    "txt_train = padded_docs[0:20000]\n",
    "txt_test = padded_docs[20000:25000]\n",
    "y = []\n",
    "for i in range(len(train)):\n",
    "    y.append(train.polarity[i])\n",
    "y = np.asarray(y)\n",
    "y_train = y[0:20000]\n",
    "y_test = y[20000:25000]\n",
    "\n",
    "top_words = len(uniques)\n",
    "max_words = 200\n",
    "\n",
    "# create the model\n",
    "model = Sequential()\n",
    "model.add(Embedding(top_words, 128, input_length=max_words))\n",
    "model.add(Flatten())\n",
    "model.add(Dense(500, activation='relu'))\n",
    "model.add(Dropout(0.5))\n",
    "model.add(Dense(250, activation='relu'))\n",
    "model.add(Dropout(0.5))\n",
    "model.add(Dense(10, activation='relu'))\n",
    "model.add(Dense(1, activation='sigmoid'))\n",
    "model.compile(loss='binary_crossentropy', optimizer='adam', metrics=['accuracy'])\n",
    "model.summary()\n",
    "# Fit the model\n",
    "model.fit(txt_train, y_train, validation_data=(txt_test, y_test), epochs=8, batch_size=128, verbose=2)\n",
    "# Final evaluation of the model\n",
    "scores = model.evaluate(txt_test, y_test, verbose=0)\n",
    "print(\"Accuracy: %.3f\" % (scores[1]*100))"
   ]
  },
  {
   "cell_type": "markdown",
   "metadata": {},
   "source": [
    "# ANN on W2V fed to Keras Embedding"
   ]
  },
  {
   "cell_type": "markdown",
   "metadata": {},
   "source": [
    "## W2V to a Dict"
   ]
  },
  {
   "cell_type": "code",
   "execution_count": 50,
   "metadata": {},
   "outputs": [
    {
     "name": "stdout",
     "output_type": "stream",
     "text": [
      "Loaded 12595 word vectors.\n"
     ]
    }
   ],
   "source": [
    "#W2V dict made on imdb\n",
    "import os\n",
    "embeddings_index = dict()\n",
    "f = open('imdb_embedding_w2v.txt',  encoding=\"utf8\")\n",
    "for line in f:\n",
    "    values = line.split()\n",
    "    word = values[0]\n",
    "    coefs = np.asarray(values[1:], dtype='float32')\n",
    "    embeddings_index[word] = coefs\n",
    "f.close()\n",
    "print('Loaded %s word vectors.' % len(embeddings_index))\n",
    "vocab_size = len(embeddings_index)"
   ]
  },
  {
   "cell_type": "code",
   "execution_count": 9,
   "metadata": {},
   "outputs": [
    {
     "name": "stdout",
     "output_type": "stream",
     "text": [
      "Loaded 400000 word vectors.\n"
     ]
    }
   ],
   "source": [
    "#glove dict\n",
    "import os\n",
    "embeddings_index = dict()\n",
    "f = open('glove.6B.100d.txt',  encoding=\"utf8\")\n",
    "for line in f:\n",
    "    values = line.split()\n",
    "    word = values[0]\n",
    "    coefs = np.asarray(values[1:], dtype='float32')\n",
    "    embeddings_index[word] = coefs\n",
    "f.close()\n",
    "print('Loaded %s word vectors.' % len(embeddings_index))\n",
    "vocab_size = len(uniques)"
   ]
  },
  {
   "cell_type": "markdown",
   "metadata": {},
   "source": [
    "## Dict to an Embedding Matrix"
   ]
  },
  {
   "cell_type": "code",
   "execution_count": 51,
   "metadata": {},
   "outputs": [
    {
     "data": {
      "text/plain": [
       "(12595, 100)"
      ]
     },
     "execution_count": 51,
     "metadata": {},
     "output_type": "execute_result"
    }
   ],
   "source": [
    "embedding_matrix = np.zeros((vocab_size, 100))\n",
    "for word, i in inv_dick.items():\n",
    "    embedding_vector = embeddings_index.get(word)\n",
    "    if embedding_vector is not None: #in case a word was not in the w2v embedding. \n",
    "        embedding_matrix[i] = embedding_vector\n",
    "np.shape(embedding_matrix)"
   ]
  },
  {
   "cell_type": "markdown",
   "metadata": {},
   "source": [
    "## non_trainable Embedding fed to Keras layer"
   ]
  },
  {
   "cell_type": "code",
   "execution_count": 11,
   "metadata": {},
   "outputs": [
    {
     "name": "stderr",
     "output_type": "stream",
     "text": [
      "W1220 10:34:45.690004  6480 deprecation_wrapper.py:119] From C:\\ProgramData\\Anaconda3\\lib\\site-packages\\keras\\backend\\tensorflow_backend.py:517: The name tf.placeholder is deprecated. Please use tf.compat.v1.placeholder instead.\n",
      "\n",
      "W1220 10:34:45.690004  6480 deprecation_wrapper.py:119] From C:\\ProgramData\\Anaconda3\\lib\\site-packages\\keras\\backend\\tensorflow_backend.py:4138: The name tf.random_uniform is deprecated. Please use tf.random.uniform instead.\n",
      "\n",
      "W1220 10:34:45.700745  6480 deprecation_wrapper.py:119] From C:\\ProgramData\\Anaconda3\\lib\\site-packages\\keras\\backend\\tensorflow_backend.py:174: The name tf.get_default_session is deprecated. Please use tf.compat.v1.get_default_session instead.\n",
      "\n",
      "W1220 10:34:45.700745  6480 deprecation_wrapper.py:119] From C:\\ProgramData\\Anaconda3\\lib\\site-packages\\keras\\backend\\tensorflow_backend.py:181: The name tf.ConfigProto is deprecated. Please use tf.compat.v1.ConfigProto instead.\n",
      "\n",
      "W1220 10:34:45.775284  6480 deprecation.py:506] From C:\\ProgramData\\Anaconda3\\lib\\site-packages\\keras\\backend\\tensorflow_backend.py:3445: calling dropout (from tensorflow.python.ops.nn_ops) with keep_prob is deprecated and will be removed in a future version.\n",
      "Instructions for updating:\n",
      "Please use `rate` instead of `keep_prob`. Rate should be set to `rate = 1 - keep_prob`.\n",
      "W1220 10:34:45.852422  6480 deprecation_wrapper.py:119] From C:\\ProgramData\\Anaconda3\\lib\\site-packages\\keras\\optimizers.py:790: The name tf.train.Optimizer is deprecated. Please use tf.compat.v1.train.Optimizer instead.\n",
      "\n",
      "W1220 10:34:45.870611  6480 deprecation.py:323] From C:\\ProgramData\\Anaconda3\\lib\\site-packages\\tensorflow\\python\\ops\\nn_impl.py:180: add_dispatch_support.<locals>.wrapper (from tensorflow.python.ops.array_ops) is deprecated and will be removed in a future version.\n",
      "Instructions for updating:\n",
      "Use tf.where in 2.0, which has the same broadcast rule as np.where\n"
     ]
    },
    {
     "name": "stdout",
     "output_type": "stream",
     "text": [
      "_________________________________________________________________\n",
      "Layer (type)                 Output Shape              Param #   \n",
      "=================================================================\n",
      "embedding_1 (Embedding)      (None, 200, 100)          960900    \n",
      "_________________________________________________________________\n",
      "flatten_1 (Flatten)          (None, 20000)             0         \n",
      "_________________________________________________________________\n",
      "dense_1 (Dense)              (None, 500)               10000500  \n",
      "_________________________________________________________________\n",
      "dropout_1 (Dropout)          (None, 500)               0         \n",
      "_________________________________________________________________\n",
      "dense_2 (Dense)              (None, 500)               250500    \n",
      "_________________________________________________________________\n",
      "dropout_2 (Dropout)          (None, 500)               0         \n",
      "_________________________________________________________________\n",
      "dense_3 (Dense)              (None, 10)                5010      \n",
      "_________________________________________________________________\n",
      "dense_4 (Dense)              (None, 1)                 11        \n",
      "=================================================================\n",
      "Total params: 11,216,921\n",
      "Trainable params: 10,256,021\n",
      "Non-trainable params: 960,900\n",
      "_________________________________________________________________\n",
      "Train on 20000 samples, validate on 5000 samples\n",
      "Epoch 1/8\n",
      " - 29s - loss: 0.6938 - acc: 0.5047 - val_loss: 0.6927 - val_acc: 0.5302\n",
      "Epoch 2/8\n",
      " - 29s - loss: 0.6782 - acc: 0.5586 - val_loss: 0.6372 - val_acc: 0.6472\n",
      "Epoch 3/8\n",
      " - 29s - loss: 0.5935 - acc: 0.6766 - val_loss: 0.5572 - val_acc: 0.7186\n",
      "Epoch 4/8\n",
      " - 29s - loss: 0.5028 - acc: 0.7545 - val_loss: 0.5182 - val_acc: 0.7432\n",
      "Epoch 5/8\n",
      " - 29s - loss: 0.4420 - acc: 0.7955 - val_loss: 0.5718 - val_acc: 0.7294\n",
      "Epoch 6/8\n",
      " - 29s - loss: 0.4028 - acc: 0.8179 - val_loss: 0.5161 - val_acc: 0.7544\n",
      "Epoch 7/8\n",
      " - 29s - loss: 0.3707 - acc: 0.8355 - val_loss: 0.5712 - val_acc: 0.7330\n",
      "Epoch 8/8\n",
      " - 29s - loss: 0.3557 - acc: 0.8404 - val_loss: 0.5533 - val_acc: 0.7456\n",
      "Accuracy: 74.560\n"
     ]
    }
   ],
   "source": [
    "txt_train = padded_docs[0:20000]\n",
    "txt_test = padded_docs[20000:25000]\n",
    "y = []\n",
    "for i in range(len(train)):\n",
    "    y.append(train.polarity[i])\n",
    "y = np.asarray(y)\n",
    "y_train = y[0:20000]\n",
    "y_test = y[20000:25000]\n",
    "\n",
    "top_words = vocab_size\n",
    "max_words = 200\n",
    "\n",
    "# create the model\n",
    "lrs = [ 0.00005]\n",
    "for lr in lrs:\n",
    "    model = Sequential()\n",
    "    e = Embedding(vocab_size, 100, weights=[embedding_matrix], input_length=max_words, trainable=False)\n",
    "    model.add(e)\n",
    "    model.add(Flatten())\n",
    "    model.add(Dense(500, activation='relu'))\n",
    "    model.add(Dropout(0.25))\n",
    "    model.add(Dense(500, activation='relu'))\n",
    "    model.add(Dropout(0.25))\n",
    "    model.add(Dense(10, activation='relu'))\n",
    "    model.add(Dense(1, activation='sigmoid'))\n",
    "    opt = Adam(lr = lr)\n",
    "    model.compile(loss='binary_crossentropy', optimizer=opt, metrics=['accuracy'])\n",
    "    model.summary()\n",
    "    # Fit the model\n",
    "    model.fit(txt_train, y_train, validation_data=(txt_test, y_test), epochs=8, batch_size=128, verbose=2)\n",
    "    # Final evaluation of the model\n",
    "    scores = model.evaluate(txt_test, y_test, verbose=0)\n",
    "    print(\"Accuracy: %.3f\" % (scores[1]*100))\n",
    "# 84% with w2v embedding on IMDB"
   ]
  }
 ],
 "metadata": {
  "kernelspec": {
   "display_name": "Python 3",
   "language": "python",
   "name": "python3"
  },
  "language_info": {
   "codemirror_mode": {
    "name": "ipython",
    "version": 3
   },
   "file_extension": ".py",
   "mimetype": "text/x-python",
   "name": "python",
   "nbconvert_exporter": "python",
   "pygments_lexer": "ipython3",
   "version": "3.7.3"
  },
  "toc": {
   "base_numbering": 1,
   "nav_menu": {},
   "number_sections": true,
   "sideBar": true,
   "skip_h1_title": false,
   "title_cell": "Table of Contents",
   "title_sidebar": "Contents",
   "toc_cell": false,
   "toc_position": {
    "height": "calc(100% - 180px)",
    "left": "10px",
    "top": "150px",
    "width": "224px"
   },
   "toc_section_display": true,
   "toc_window_display": true
  }
 },
 "nbformat": 4,
 "nbformat_minor": 2
}
